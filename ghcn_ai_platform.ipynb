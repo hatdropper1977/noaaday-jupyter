{
 "cells": [
  {
   "cell_type": "markdown",
   "metadata": {},
   "source": [
    "## BigQuery Magic - Query results to Pandas Dataframe\n",
    "The following code uses Jupyter **magic** to load the results of a BigQuery query into a Pandas dataframe.\n",
    "\n",
    "Note that we do not need to import any libraries!"
   ]
  },
  {
   "cell_type": "code",
   "execution_count": null,
   "metadata": {},
   "outputs": [],
   "source": [
    "%%bigquery stations_df --verbose\n",
    "SELECT\n",
    "  name, id,\n",
    "  state,\n",
    "  ST_GeogPoint(longitude, latitude) AS g\n",
    "FROM\n",
    "  `bigquery-public-data.ghcn_d.ghcnd_stations`\n",
    "LIMIT\n",
    "  1000"
   ]
  },
  {
   "cell_type": "code",
   "execution_count": null,
   "metadata": {},
   "outputs": [],
   "source": [
    "stations_df.head()"
   ]
  },
  {
   "cell_type": "markdown",
   "metadata": {},
   "source": [
    "## Location search via GIS\n",
    "Now search for stations near Washinton DC.  You can set the lat long of another station in **ST_GeogPoint**"
   ]
  },
  {
   "cell_type": "code",
   "execution_count": null,
   "metadata": {},
   "outputs": [],
   "source": [
    "%%bigquery dc_stations_df --verbose\n",
    "WITH params AS (\n",
    "  SELECT ST_GeogPoint(-77.0032, 38.9) AS center,\n",
    "         50 AS maxn_stations,\n",
    "         50 AS maxdist_km\n",
    "),\n",
    "distance_from_center AS (\n",
    "  SELECT\n",
    "    id,\n",
    "    name,\n",
    "    state,\n",
    "    ST_GeogPoint(longitude, latitude) AS loc,\n",
    "    ST_Distance(ST_GeogPoint(longitude, latitude), params.center) AS dist_meters\n",
    "  FROM\n",
    "    `bigquery-public-data.ghcn_d.ghcnd_stations`,\n",
    "    params\n",
    "  WHERE ST_DWithin(ST_GeogPoint(longitude, latitude), params.center, params.maxdist_km*1000)\n",
    ")\n",
    "SELECT * from distance_from_center"
   ]
  },
  {
   "cell_type": "code",
   "execution_count": null,
   "metadata": {},
   "outputs": [],
   "source": [
    "dc_stations_df.head()"
   ]
  },
  {
   "cell_type": "markdown",
   "metadata": {},
   "source": [
    "## Use parameters in BigQuery search\n",
    "Set the **lat** and **long** as python variables.\n",
    "\n",
    "Note that we need to cast the **FLOAT64** as **String**, since Jupyter **BigQuery Magic** mis-interprets the negative sign as a variable."
   ]
  },
  {
   "cell_type": "code",
   "execution_count": null,
   "metadata": {},
   "outputs": [],
   "source": [
    "long = -77.0032\n",
    "lat  = 38.9\n",
    "params = {\"longitude\": f'{long}', \"latitude\" : f'{lat}'}"
   ]
  },
  {
   "cell_type": "markdown",
   "metadata": {},
   "source": [
    "Send the **JSON String** to the query via the **params** flag and then **CAST** them to **FLOAT64**."
   ]
  },
  {
   "cell_type": "code",
   "execution_count": null,
   "metadata": {},
   "outputs": [],
   "source": [
    "%%bigquery dc_stations_2_df --params $params --verbose\n",
    "WITH params AS (\n",
    "  SELECT ST_GeogPoint(CAST(@longitude as FLOAT64), CAST(@latitude as FLOAT64)) AS center,\n",
    "         50 AS maxn_stations,\n",
    "         50 AS maxdist_km\n",
    "),\n",
    "distance_from_center AS (\n",
    "  SELECT\n",
    "    id,\n",
    "    name,\n",
    "    state,\n",
    "    longitude, \n",
    "    latitude,\n",
    "    ST_Distance(ST_GeogPoint(longitude, latitude), params.center) AS dist_meters\n",
    "  FROM\n",
    "    `bigquery-public-data.ghcn_d.ghcnd_stations`,\n",
    "    params\n",
    "  WHERE ST_DWithin(ST_GeogPoint(longitude, latitude), params.center, params.maxdist_km*1000)\n",
    ")\n",
    "SELECT * from distance_from_center"
   ]
  },
  {
   "cell_type": "code",
   "execution_count": null,
   "metadata": {},
   "outputs": [],
   "source": [
    "dc_stations_2_df.head()"
   ]
  },
  {
   "cell_type": "code",
   "execution_count": null,
   "metadata": {},
   "outputs": [],
   "source": [
    "!pip install geopandas"
   ]
  },
  {
   "cell_type": "code",
   "execution_count": null,
   "metadata": {},
   "outputs": [],
   "source": [
    "import geopandas as gpd"
   ]
  },
  {
   "cell_type": "code",
   "execution_count": null,
   "metadata": {},
   "outputs": [],
   "source": [
    "dc_geo_df = gpd.GeoDataFrame(dc_stations_2_df, geometry = gpd.points_from_xy(dc_stations_2_df.longitude, dc_stations_2_df.latitude))"
   ]
  },
  {
   "cell_type": "code",
   "execution_count": null,
   "metadata": {},
   "outputs": [],
   "source": [
    "dc_geo_df.plot()"
   ]
  },
  {
   "cell_type": "code",
   "execution_count": null,
   "metadata": {},
   "outputs": [],
   "source": [
    "!pip install descartes"
   ]
  },
  {
   "cell_type": "code",
   "execution_count": null,
   "metadata": {},
   "outputs": [],
   "source": [
    "world = gpd.read_file(gpd.datasets.get_path('naturalearth_lowres'))\n",
    "ax = world[world.continent == 'North America'].plot(\n",
    "    color='white', edgecolor='black')\n",
    "ax.set_xlim([-80, -75])\n",
    "ax.set_ylim([36,40])\n",
    "dc_geo_df.plot(ax=ax, color = 'red')"
   ]
  },
  {
   "cell_type": "code",
   "execution_count": null,
   "metadata": {},
   "outputs": [],
   "source": []
  }
 ],
 "metadata": {
  "environment": {
   "name": "common-cpu.m48",
   "type": "gcloud",
   "uri": "gcr.io/deeplearning-platform-release/base-cpu:m48"
  },
  "kernelspec": {
   "display_name": "Python 3",
   "language": "python",
   "name": "python3"
  },
  "language_info": {
   "codemirror_mode": {
    "name": "ipython",
    "version": 3
   },
   "file_extension": ".py",
   "mimetype": "text/x-python",
   "name": "python",
   "nbconvert_exporter": "python",
   "pygments_lexer": "ipython3",
   "version": "3.7.6"
  }
 },
 "nbformat": 4,
 "nbformat_minor": 4
}
