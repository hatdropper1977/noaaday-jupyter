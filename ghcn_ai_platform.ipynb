{
 "cells": [
  {
   "cell_type": "markdown",
   "metadata": {},
   "source": [
    "## BigQuery Magic - Query results to Pandas Dataframe\n",
    "The following code uses Jupyter **magic** to load the results of a BigQuery query into a Pandas dataframe.\n",
    "\n",
    "Note that we do not need to import any libraries!"
   ]
  },
  {
   "cell_type": "code",
   "execution_count": 1,
   "metadata": {},
   "outputs": [
    {
     "name": "stdout",
     "output_type": "stream",
     "text": [
      "Executing query with job ID: 8f3bf23b-811a-4e59-9c8c-a851da3a5953\n",
      "Query executing: 1.16s\n",
      "Query complete after 1.48s\n"
     ]
    }
   ],
   "source": [
    "%%bigquery stations_df --verbose\n",
    "SELECT\n",
    "  name, id,\n",
    "  state,\n",
    "  ST_GeogPoint(longitude, latitude) AS g\n",
    "FROM\n",
    "  `bigquery-public-data.ghcn_d.ghcnd_stations`\n",
    "LIMIT\n",
    "  1000"
   ]
  },
  {
   "cell_type": "code",
   "execution_count": 2,
   "metadata": {},
   "outputs": [
    {
     "data": {
      "text/html": [
       "<div>\n",
       "<style scoped>\n",
       "    .dataframe tbody tr th:only-of-type {\n",
       "        vertical-align: middle;\n",
       "    }\n",
       "\n",
       "    .dataframe tbody tr th {\n",
       "        vertical-align: top;\n",
       "    }\n",
       "\n",
       "    .dataframe thead th {\n",
       "        text-align: right;\n",
       "    }\n",
       "</style>\n",
       "<table border=\"1\" class=\"dataframe\">\n",
       "  <thead>\n",
       "    <tr style=\"text-align: right;\">\n",
       "      <th></th>\n",
       "      <th>name</th>\n",
       "      <th>id</th>\n",
       "      <th>state</th>\n",
       "      <th>g</th>\n",
       "    </tr>\n",
       "  </thead>\n",
       "  <tbody>\n",
       "    <tr>\n",
       "      <th>0</th>\n",
       "      <td>BOWEN CHEETHAM SALT</td>\n",
       "      <td>ASN00033094</td>\n",
       "      <td></td>\n",
       "      <td>POINT(148.2247 -20.0133)</td>\n",
       "    </tr>\n",
       "    <tr>\n",
       "      <th>1</th>\n",
       "      <td>DUMBLETON ROCKS ALERT</td>\n",
       "      <td>ASN00033300</td>\n",
       "      <td></td>\n",
       "      <td>POINT(149.0753 -21.1439)</td>\n",
       "    </tr>\n",
       "    <tr>\n",
       "      <th>2</th>\n",
       "      <td>ONE MILE BRIDGE ALERT</td>\n",
       "      <td>ASN00040836</td>\n",
       "      <td></td>\n",
       "      <td>POINT(152.7461 -27.6272)</td>\n",
       "    </tr>\n",
       "    <tr>\n",
       "      <th>3</th>\n",
       "      <td>CURUCA</td>\n",
       "      <td>BR000047003</td>\n",
       "      <td></td>\n",
       "      <td>POINT(-47.85 -0.73)</td>\n",
       "    </tr>\n",
       "    <tr>\n",
       "      <th>4</th>\n",
       "      <td>PRIMAVERA</td>\n",
       "      <td>BR000047004</td>\n",
       "      <td></td>\n",
       "      <td>POINT(-47.1 -0.93)</td>\n",
       "    </tr>\n",
       "  </tbody>\n",
       "</table>\n",
       "</div>"
      ],
      "text/plain": [
       "                             name           id state                         g\n",
       "0  BOWEN CHEETHAM SALT             ASN00033094        POINT(148.2247 -20.0133)\n",
       "1  DUMBLETON ROCKS ALERT           ASN00033300        POINT(149.0753 -21.1439)\n",
       "2  ONE MILE BRIDGE ALERT           ASN00040836        POINT(152.7461 -27.6272)\n",
       "3  CURUCA                          BR000047003             POINT(-47.85 -0.73)\n",
       "4  PRIMAVERA                       BR000047004              POINT(-47.1 -0.93)"
      ]
     },
     "execution_count": 2,
     "metadata": {},
     "output_type": "execute_result"
    }
   ],
   "source": [
    "stations_df.head()"
   ]
  },
  {
   "cell_type": "markdown",
   "metadata": {},
   "source": [
    "## Location search via GIS\n",
    "Now search for stations near Washinton DC.  You can set the lat long of another station in **ST_GeogPoint**"
   ]
  },
  {
   "cell_type": "code",
   "execution_count": 3,
   "metadata": {},
   "outputs": [
    {
     "name": "stdout",
     "output_type": "stream",
     "text": [
      "Executing query with job ID: c6d220a4-5dc1-464f-912a-7b595807e2a8\n",
      "Query executing: 0.66s\n",
      "Query complete after 1.03s\n"
     ]
    }
   ],
   "source": [
    "%%bigquery dc_stations_df --verbose\n",
    "WITH params AS (\n",
    "  SELECT ST_GeogPoint(-77.0032, 38.9) AS center,\n",
    "         50 AS maxn_stations,\n",
    "         50 AS maxdist_km\n",
    "),\n",
    "distance_from_center AS (\n",
    "  SELECT\n",
    "    id,\n",
    "    name,\n",
    "    state,\n",
    "    ST_GeogPoint(longitude, latitude) AS loc,\n",
    "    ST_Distance(ST_GeogPoint(longitude, latitude), params.center) AS dist_meters\n",
    "  FROM\n",
    "    `bigquery-public-data.ghcn_d.ghcnd_stations`,\n",
    "    params\n",
    "  WHERE ST_DWithin(ST_GeogPoint(longitude, latitude), params.center, params.maxdist_km*1000)\n",
    ")\n",
    "SELECT * from distance_from_center"
   ]
  },
  {
   "cell_type": "code",
   "execution_count": 4,
   "metadata": {},
   "outputs": [
    {
     "data": {
      "text/html": [
       "<div>\n",
       "<style scoped>\n",
       "    .dataframe tbody tr th:only-of-type {\n",
       "        vertical-align: middle;\n",
       "    }\n",
       "\n",
       "    .dataframe tbody tr th {\n",
       "        vertical-align: top;\n",
       "    }\n",
       "\n",
       "    .dataframe thead th {\n",
       "        text-align: right;\n",
       "    }\n",
       "</style>\n",
       "<table border=\"1\" class=\"dataframe\">\n",
       "  <thead>\n",
       "    <tr style=\"text-align: right;\">\n",
       "      <th></th>\n",
       "      <th>id</th>\n",
       "      <th>name</th>\n",
       "      <th>state</th>\n",
       "      <th>loc</th>\n",
       "      <th>dist_meters</th>\n",
       "    </tr>\n",
       "  </thead>\n",
       "  <tbody>\n",
       "    <tr>\n",
       "      <th>0</th>\n",
       "      <td>US1DCDC0009</td>\n",
       "      <td>WASHINGTON 2.0 SSW</td>\n",
       "      <td>DC</td>\n",
       "      <td>POINT(-77.0224 38.8766)</td>\n",
       "      <td>3087.351459</td>\n",
       "    </tr>\n",
       "    <tr>\n",
       "      <th>1</th>\n",
       "      <td>US1DCDC0007</td>\n",
       "      <td>WASHINGTON 1.2 SE</td>\n",
       "      <td>DC</td>\n",
       "      <td>POINT(-76.9982 38.8943)</td>\n",
       "      <td>767.429691</td>\n",
       "    </tr>\n",
       "    <tr>\n",
       "      <th>2</th>\n",
       "      <td>US1DCDC0002</td>\n",
       "      <td>WASHINGTON 3.7 NNW</td>\n",
       "      <td>DC</td>\n",
       "      <td>POINT(-77.0337 38.9574)</td>\n",
       "      <td>6906.390130</td>\n",
       "    </tr>\n",
       "    <tr>\n",
       "      <th>3</th>\n",
       "      <td>US1DCDC0019</td>\n",
       "      <td>THE WHITE HOUSE</td>\n",
       "      <td>DC</td>\n",
       "      <td>POINT(-77.037 38.8958)</td>\n",
       "      <td>2962.079439</td>\n",
       "    </tr>\n",
       "    <tr>\n",
       "      <th>4</th>\n",
       "      <td>US1DCDC0010</td>\n",
       "      <td>WASHINGTON 5.0 N</td>\n",
       "      <td>DC</td>\n",
       "      <td>POINT(-77.0245 38.9773)</td>\n",
       "      <td>8790.585440</td>\n",
       "    </tr>\n",
       "  </tbody>\n",
       "</table>\n",
       "</div>"
      ],
      "text/plain": [
       "            id                            name state                      loc  \\\n",
       "0  US1DCDC0009  WASHINGTON 2.0 SSW                DC  POINT(-77.0224 38.8766)   \n",
       "1  US1DCDC0007  WASHINGTON 1.2 SE                 DC  POINT(-76.9982 38.8943)   \n",
       "2  US1DCDC0002  WASHINGTON 3.7 NNW                DC  POINT(-77.0337 38.9574)   \n",
       "3  US1DCDC0019  THE WHITE HOUSE                   DC   POINT(-77.037 38.8958)   \n",
       "4  US1DCDC0010  WASHINGTON 5.0 N                  DC  POINT(-77.0245 38.9773)   \n",
       "\n",
       "   dist_meters  \n",
       "0  3087.351459  \n",
       "1   767.429691  \n",
       "2  6906.390130  \n",
       "3  2962.079439  \n",
       "4  8790.585440  "
      ]
     },
     "execution_count": 4,
     "metadata": {},
     "output_type": "execute_result"
    }
   ],
   "source": [
    "dc_stations_df.head()"
   ]
  },
  {
   "cell_type": "markdown",
   "metadata": {},
   "source": [
    "## Use parameters in BigQuery search\n",
    "Set the **lat** and **long** as python variables.\n",
    "\n",
    "Note that we need to cast the **FLOAT64** as **String**, since Jupyter **BigQuery Magic** mis-interprets the negative sign as a variable."
   ]
  },
  {
   "cell_type": "code",
   "execution_count": 5,
   "metadata": {},
   "outputs": [],
   "source": [
    "long = -77.0032\n",
    "lat  = 38.9\n",
    "params = {\"longitude\": f'{long}', \"latitude\" : f'{lat}'}"
   ]
  },
  {
   "cell_type": "markdown",
   "metadata": {},
   "source": [
    "Send the **JSON String** to the query via the **params** flag and then **CAST** them to **FLOAT64**."
   ]
  },
  {
   "cell_type": "code",
   "execution_count": 6,
   "metadata": {},
   "outputs": [
    {
     "name": "stdout",
     "output_type": "stream",
     "text": [
      "Executing query with job ID: 350d7b79-4989-4d6e-aa26-0601d848088b\n",
      "Query executing: 0.48s\n",
      "Query complete after 0.80s\n"
     ]
    }
   ],
   "source": [
    "%%bigquery dc_stations_2_df --params $params --verbose\n",
    "WITH params AS (\n",
    "  SELECT ST_GeogPoint(CAST(@longitude as FLOAT64), CAST(@latitude as FLOAT64)) AS center,\n",
    "         50 AS maxn_stations,\n",
    "         50 AS maxdist_km\n",
    "),\n",
    "distance_from_center AS (\n",
    "  SELECT\n",
    "    id,\n",
    "    name,\n",
    "    state,\n",
    "    longitude, \n",
    "    latitude,\n",
    "    ST_Distance(ST_GeogPoint(longitude, latitude), params.center) AS dist_meters\n",
    "  FROM\n",
    "    `bigquery-public-data.ghcn_d.ghcnd_stations`,\n",
    "    params\n",
    "  WHERE ST_DWithin(ST_GeogPoint(longitude, latitude), params.center, params.maxdist_km*1000)\n",
    ")\n",
    "SELECT * from distance_from_center"
   ]
  },
  {
   "cell_type": "code",
   "execution_count": 7,
   "metadata": {},
   "outputs": [
    {
     "data": {
      "text/html": [
       "<div>\n",
       "<style scoped>\n",
       "    .dataframe tbody tr th:only-of-type {\n",
       "        vertical-align: middle;\n",
       "    }\n",
       "\n",
       "    .dataframe tbody tr th {\n",
       "        vertical-align: top;\n",
       "    }\n",
       "\n",
       "    .dataframe thead th {\n",
       "        text-align: right;\n",
       "    }\n",
       "</style>\n",
       "<table border=\"1\" class=\"dataframe\">\n",
       "  <thead>\n",
       "    <tr style=\"text-align: right;\">\n",
       "      <th></th>\n",
       "      <th>id</th>\n",
       "      <th>name</th>\n",
       "      <th>state</th>\n",
       "      <th>longitude</th>\n",
       "      <th>latitude</th>\n",
       "      <th>dist_meters</th>\n",
       "    </tr>\n",
       "  </thead>\n",
       "  <tbody>\n",
       "    <tr>\n",
       "      <th>0</th>\n",
       "      <td>US1DCDC0009</td>\n",
       "      <td>WASHINGTON 2.0 SSW</td>\n",
       "      <td>DC</td>\n",
       "      <td>-77.0224</td>\n",
       "      <td>38.8766</td>\n",
       "      <td>3087.351459</td>\n",
       "    </tr>\n",
       "    <tr>\n",
       "      <th>1</th>\n",
       "      <td>US1DCDC0007</td>\n",
       "      <td>WASHINGTON 1.2 SE</td>\n",
       "      <td>DC</td>\n",
       "      <td>-76.9982</td>\n",
       "      <td>38.8943</td>\n",
       "      <td>767.429691</td>\n",
       "    </tr>\n",
       "    <tr>\n",
       "      <th>2</th>\n",
       "      <td>US1DCDC0002</td>\n",
       "      <td>WASHINGTON 3.7 NNW</td>\n",
       "      <td>DC</td>\n",
       "      <td>-77.0337</td>\n",
       "      <td>38.9574</td>\n",
       "      <td>6906.390130</td>\n",
       "    </tr>\n",
       "    <tr>\n",
       "      <th>3</th>\n",
       "      <td>US1DCDC0019</td>\n",
       "      <td>THE WHITE HOUSE</td>\n",
       "      <td>DC</td>\n",
       "      <td>-77.0370</td>\n",
       "      <td>38.8958</td>\n",
       "      <td>2962.079439</td>\n",
       "    </tr>\n",
       "    <tr>\n",
       "      <th>4</th>\n",
       "      <td>US1DCDC0010</td>\n",
       "      <td>WASHINGTON 5.0 N</td>\n",
       "      <td>DC</td>\n",
       "      <td>-77.0245</td>\n",
       "      <td>38.9773</td>\n",
       "      <td>8790.585440</td>\n",
       "    </tr>\n",
       "  </tbody>\n",
       "</table>\n",
       "</div>"
      ],
      "text/plain": [
       "            id                            name state  longitude  latitude  \\\n",
       "0  US1DCDC0009  WASHINGTON 2.0 SSW                DC   -77.0224   38.8766   \n",
       "1  US1DCDC0007  WASHINGTON 1.2 SE                 DC   -76.9982   38.8943   \n",
       "2  US1DCDC0002  WASHINGTON 3.7 NNW                DC   -77.0337   38.9574   \n",
       "3  US1DCDC0019  THE WHITE HOUSE                   DC   -77.0370   38.8958   \n",
       "4  US1DCDC0010  WASHINGTON 5.0 N                  DC   -77.0245   38.9773   \n",
       "\n",
       "   dist_meters  \n",
       "0  3087.351459  \n",
       "1   767.429691  \n",
       "2  6906.390130  \n",
       "3  2962.079439  \n",
       "4  8790.585440  "
      ]
     },
     "execution_count": 7,
     "metadata": {},
     "output_type": "execute_result"
    }
   ],
   "source": [
    "dc_stations_2_df.head()"
   ]
  },
  {
   "cell_type": "markdown",
   "metadata": {},
   "source": [
    "## Plot the stations on a Map\n",
    "Install and import **geopandas**"
   ]
  },
  {
   "cell_type": "code",
   "execution_count": 8,
   "metadata": {},
   "outputs": [
    {
     "name": "stdout",
     "output_type": "stream",
     "text": [
      "Requirement already satisfied: geopandas in /opt/conda/lib/python3.7/site-packages (0.7.0)\n",
      "Requirement already satisfied: pyproj>=2.2.0 in /opt/conda/lib/python3.7/site-packages (from geopandas) (2.6.1.post1)\n",
      "Requirement already satisfied: pandas>=0.23.0 in /opt/conda/lib/python3.7/site-packages (from geopandas) (1.0.4)\n",
      "Requirement already satisfied: fiona in /opt/conda/lib/python3.7/site-packages (from geopandas) (1.8.13.post1)\n",
      "Requirement already satisfied: shapely in /opt/conda/lib/python3.7/site-packages (from geopandas) (1.7.0)\n",
      "Requirement already satisfied: pytz>=2017.2 in /opt/conda/lib/python3.7/site-packages (from pandas>=0.23.0->geopandas) (2020.1)\n",
      "Requirement already satisfied: numpy>=1.13.3 in /opt/conda/lib/python3.7/site-packages (from pandas>=0.23.0->geopandas) (1.18.1)\n",
      "Requirement already satisfied: python-dateutil>=2.6.1 in /opt/conda/lib/python3.7/site-packages (from pandas>=0.23.0->geopandas) (2.8.1)\n",
      "Requirement already satisfied: cligj>=0.5 in /opt/conda/lib/python3.7/site-packages (from fiona->geopandas) (0.5.0)\n",
      "Requirement already satisfied: six>=1.7 in /opt/conda/lib/python3.7/site-packages (from fiona->geopandas) (1.15.0)\n",
      "Requirement already satisfied: munch in /opt/conda/lib/python3.7/site-packages (from fiona->geopandas) (2.5.0)\n",
      "Requirement already satisfied: attrs>=17 in /opt/conda/lib/python3.7/site-packages (from fiona->geopandas) (19.3.0)\n",
      "Requirement already satisfied: click-plugins>=1.0 in /opt/conda/lib/python3.7/site-packages (from fiona->geopandas) (1.1.1)\n",
      "Requirement already satisfied: click<8,>=4.0 in /opt/conda/lib/python3.7/site-packages (from fiona->geopandas) (7.1.2)\n"
     ]
    }
   ],
   "source": [
    "!pip install geopandas"
   ]
  },
  {
   "cell_type": "code",
   "execution_count": 9,
   "metadata": {},
   "outputs": [],
   "source": [
    "import geopandas as gpd"
   ]
  },
  {
   "cell_type": "markdown",
   "metadata": {},
   "source": [
    "Create a GeoDataFrame from the **pandas** DataFrame."
   ]
  },
  {
   "cell_type": "code",
   "execution_count": 10,
   "metadata": {},
   "outputs": [],
   "source": [
    "dc_geo_df = gpd.GeoDataFrame(dc_stations_2_df, geometry = gpd.points_from_xy(dc_stations_2_df.longitude, dc_stations_2_df.latitude))"
   ]
  },
  {
   "cell_type": "code",
   "execution_count": 11,
   "metadata": {},
   "outputs": [
    {
     "data": {
      "text/plain": [
       "<matplotlib.axes._subplots.AxesSubplot at 0x7f6832646dd0>"
      ]
     },
     "execution_count": 11,
     "metadata": {},
     "output_type": "execute_result"
    },
    {
     "data": {
      "image/png": "[encoded data removed]",
      "text/plain": [
       "<Figure size 432x288 with 1 Axes>"
      ]
     },
     "metadata": {
      "needs_background": "light"
     },
     "output_type": "display_data"
    }
   ],
   "source": [
    "dc_geo_df.plot()"
   ]
  },
  {
   "cell_type": "code",
   "execution_count": 12,
   "metadata": {},
   "outputs": [
    {
     "name": "stdout",
     "output_type": "stream",
     "text": [
      "Requirement already satisfied: descartes in /opt/conda/lib/python3.7/site-packages (1.1.0)\n",
      "Requirement already satisfied: matplotlib in /opt/conda/lib/python3.7/site-packages (from descartes) (3.2.1)\n",
      "Requirement already satisfied: kiwisolver>=1.0.1 in /opt/conda/lib/python3.7/site-packages (from matplotlib->descartes) (1.2.0)\n",
      "Requirement already satisfied: cycler>=0.10 in /opt/conda/lib/python3.7/site-packages (from matplotlib->descartes) (0.10.0)\n",
      "Requirement already satisfied: numpy>=1.11 in /opt/conda/lib/python3.7/site-packages (from matplotlib->descartes) (1.18.1)\n",
      "Requirement already satisfied: pyparsing!=2.0.4,!=2.1.2,!=2.1.6,>=2.0.1 in /opt/conda/lib/python3.7/site-packages (from matplotlib->descartes) (2.4.7)\n",
      "Requirement already satisfied: python-dateutil>=2.1 in /opt/conda/lib/python3.7/site-packages (from matplotlib->descartes) (2.8.1)\n",
      "Requirement already satisfied: six in /opt/conda/lib/python3.7/site-packages (from cycler>=0.10->matplotlib->descartes) (1.15.0)\n"
     ]
    }
   ],
   "source": [
    "!pip install descartes"
   ]
  },
  {
   "cell_type": "code",
   "execution_count": 13,
   "metadata": {},
   "outputs": [
    {
     "data": {
      "text/plain": [
       "<matplotlib.axes._subplots.AxesSubplot at 0x7f68307f92d0>"
      ]
     },
     "execution_count": 13,
     "metadata": {},
     "output_type": "execute_result"
    },
    {
     "data": {
      "image/png": "[encoded data removed]",
      "text/plain": [
       "<Figure size 432x288 with 1 Axes>"
      ]
     },
     "metadata": {
      "needs_background": "light"
     },
     "output_type": "display_data"
    }
   ],
   "source": [
    "world = gpd.read_file(gpd.datasets.get_path('naturalearth_lowres'))\n",
    "ax = world[world.continent == 'North America'].plot(\n",
    "    color='white', edgecolor='black')\n",
    "ax.set_xlim([-80, -75])\n",
    "ax.set_ylim([36,40])\n",
    "dc_geo_df.plot(ax=ax, color = 'red')"
   ]
  },
  {
   "cell_type": "code",
   "execution_count": 36,
   "metadata": {},
   "outputs": [
    {
     "name": "stdout",
     "output_type": "stream",
     "text": [
      "Executing query with job ID: 1161cdde-2e51-4cd5-8cac-48727ebcfd82\n",
      "Query executing: 3.61s\n",
      "Query complete after 3.98s\n"
     ]
    }
   ],
   "source": [
    "%%bigquery airwx --verbose\n",
    "SELECT\n",
    "  wx.date,\n",
    "  wx.prcp,\n",
    "  f.departure_delay,\n",
    "  f.arrival_airport\n",
    "FROM (\n",
    "  SELECT\n",
    "    CAST(date as STRING) AS date,\n",
    "    value/10 AS prcp\n",
    "  FROM\n",
    "    `bigquery-public-data.ghcn_d.ghcnd_2005`\n",
    "  WHERE\n",
    "    id = 'USW00094846'\n",
    "    AND qflag IS NULL\n",
    "    AND element = 'PRCP') AS wx\n",
    "JOIN\n",
    "  `bigquery-samples.airline_ontime_data.flights` AS f\n",
    "ON\n",
    "  f.date = wx.date\n",
    "WHERE\n",
    "  f.departure_airport = 'ORD'"
   ]
  },
  {
   "cell_type": "code",
   "execution_count": 37,
   "metadata": {},
   "outputs": [
    {
     "data": {
      "text/html": [
       "<div>\n",
       "<style scoped>\n",
       "    .dataframe tbody tr th:only-of-type {\n",
       "        vertical-align: middle;\n",
       "    }\n",
       "\n",
       "    .dataframe tbody tr th {\n",
       "        vertical-align: top;\n",
       "    }\n",
       "\n",
       "    .dataframe thead th {\n",
       "        text-align: right;\n",
       "    }\n",
       "</style>\n",
       "<table border=\"1\" class=\"dataframe\">\n",
       "  <thead>\n",
       "    <tr style=\"text-align: right;\">\n",
       "      <th></th>\n",
       "      <th>date</th>\n",
       "      <th>prcp</th>\n",
       "      <th>departure_delay</th>\n",
       "      <th>arrival_airport</th>\n",
       "    </tr>\n",
       "  </thead>\n",
       "  <tbody>\n",
       "    <tr>\n",
       "      <th>0</th>\n",
       "      <td>2005-09-29</td>\n",
       "      <td>0.0</td>\n",
       "      <td>88.0</td>\n",
       "      <td>IAH</td>\n",
       "    </tr>\n",
       "    <tr>\n",
       "      <th>1</th>\n",
       "      <td>2005-09-19</td>\n",
       "      <td>12.7</td>\n",
       "      <td>31.0</td>\n",
       "      <td>IAH</td>\n",
       "    </tr>\n",
       "    <tr>\n",
       "      <th>2</th>\n",
       "      <td>2005-09-28</td>\n",
       "      <td>15.0</td>\n",
       "      <td>29.0</td>\n",
       "      <td>IAH</td>\n",
       "    </tr>\n",
       "    <tr>\n",
       "      <th>3</th>\n",
       "      <td>2005-09-22</td>\n",
       "      <td>18.0</td>\n",
       "      <td>60.0</td>\n",
       "      <td>IAH</td>\n",
       "    </tr>\n",
       "    <tr>\n",
       "      <th>4</th>\n",
       "      <td>2005-08-05</td>\n",
       "      <td>0.0</td>\n",
       "      <td>32.0</td>\n",
       "      <td>IAH</td>\n",
       "    </tr>\n",
       "  </tbody>\n",
       "</table>\n",
       "</div>"
      ],
      "text/plain": [
       "         date  prcp  departure_delay arrival_airport\n",
       "0  2005-09-29   0.0             88.0             IAH\n",
       "1  2005-09-19  12.7             31.0             IAH\n",
       "2  2005-09-28  15.0             29.0             IAH\n",
       "3  2005-09-22  18.0             60.0             IAH\n",
       "4  2005-08-05   0.0             32.0             IAH"
      ]
     },
     "execution_count": 37,
     "metadata": {},
     "output_type": "execute_result"
    }
   ],
   "source": [
    "airwx.head()"
   ]
  },
  {
   "cell_type": "code",
   "execution_count": 41,
   "metadata": {},
   "outputs": [
    {
     "name": "stdout",
     "output_type": "stream",
     "text": [
      "Requirement already satisfied: seaborn in /opt/conda/lib/python3.7/site-packages (0.10.1)\n",
      "Requirement already satisfied: numpy>=1.13.3 in /opt/conda/lib/python3.7/site-packages (from seaborn) (1.18.1)\n",
      "Requirement already satisfied: pandas>=0.22.0 in /opt/conda/lib/python3.7/site-packages (from seaborn) (1.0.4)\n",
      "Requirement already satisfied: matplotlib>=2.1.2 in /opt/conda/lib/python3.7/site-packages (from seaborn) (3.2.1)\n",
      "Requirement already satisfied: scipy>=1.0.1 in /opt/conda/lib/python3.7/site-packages (from seaborn) (1.4.1)\n",
      "Requirement already satisfied: python-dateutil>=2.6.1 in /opt/conda/lib/python3.7/site-packages (from pandas>=0.22.0->seaborn) (2.8.1)\n",
      "Requirement already satisfied: pytz>=2017.2 in /opt/conda/lib/python3.7/site-packages (from pandas>=0.22.0->seaborn) (2020.1)\n",
      "Requirement already satisfied: pyparsing!=2.0.4,!=2.1.2,!=2.1.6,>=2.0.1 in /opt/conda/lib/python3.7/site-packages (from matplotlib>=2.1.2->seaborn) (2.4.7)\n",
      "Requirement already satisfied: cycler>=0.10 in /opt/conda/lib/python3.7/site-packages (from matplotlib>=2.1.2->seaborn) (0.10.0)\n",
      "Requirement already satisfied: kiwisolver>=1.0.1 in /opt/conda/lib/python3.7/site-packages (from matplotlib>=2.1.2->seaborn) (1.2.0)\n",
      "Requirement already satisfied: six>=1.5 in /opt/conda/lib/python3.7/site-packages (from python-dateutil>=2.6.1->pandas>=0.22.0->seaborn) (1.15.0)\n"
     ]
    }
   ],
   "source": [
    "!pip install seaborn\n",
    "import seaborn as sns"
   ]
  },
  {
   "cell_type": "code",
   "execution_count": 44,
   "metadata": {},
   "outputs": [
    {
     "data": {
      "text/plain": [
       "Text(0, 0.5, 'Flight delays (minutes)')"
      ]
     },
     "execution_count": 44,
     "metadata": {},
     "output_type": "execute_result"
    },
    {
     "data": {
      "image/png": "[encoded data removed]",
      "text/plain": [
       "<Figure size 432x288 with 1 Axes>"
      ]
     },
     "metadata": {
      "needs_background": "light"
     },
     "output_type": "display_data"
    }
   ],
   "source": [
    "rainyday = airwx.prcp > 25.4 # 1 inch of rain\n",
    "ax = sns.violinplot(x=rainyday, y=airwx.departure_delay)\n",
    "ax.set_ylim(0, 200)\n",
    "ax.set_xlabel('Heavy rain?')\n",
    "ax.set_ylabel('Flight delays (minutes)')"
   ]
  },
  {
   "cell_type": "code",
   "execution_count": null,
   "metadata": {},
   "outputs": [],
   "source": []
  }
 ],
 "metadata": {
  "environment": {
   "name": "common-cpu.m48",
   "type": "gcloud",
   "uri": "gcr.io/deeplearning-platform-release/base-cpu:m48"
  },
  "kernelspec": {
   "display_name": "Python 3",
   "language": "python",
   "name": "python3"
  },
  "language_info": {
   "codemirror_mode": {
    "name": "ipython",
    "version": 3
   },
   "file_extension": ".py",
   "mimetype": "text/x-python",
   "name": "python",
   "nbconvert_exporter": "python",
   "pygments_lexer": "ipython3",
   "version": "3.7.6"
  }
 },
 "nbformat": 4,
 "nbformat_minor": 4
}
